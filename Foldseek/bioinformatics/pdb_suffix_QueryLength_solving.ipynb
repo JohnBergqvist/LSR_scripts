{
 "cells": [
  {
   "cell_type": "markdown",
   "metadata": {},
   "source": [
    "When you have multiple types of suffixes in PDB files, the main script to run FoldSeek casues an issue. The reasons is that experimentally validated structures of proteins can have multiple chains. These are indicated in the PDB files and parsed in the final csv by adding the suffix '_A', '_B', etc. The predicted structures only have one chain, and so a suffix with an underscore (usually produced for pdb from AlphaFold database), such as '_v4', casues issues. \n",
    "\n",
    "The result is not being able to make the column 'QueryProteinLength'. \n",
    "\n",
    "To circumvent this problem, the code below accepts the suffixes specified ('_A', '_B', '_C', '_D', '_v4'), and those that do not have suffixes, and supplement the csv file produced by the 'main.py' script to run FoldSeek with the column 'QueryProteinLength'. "
   ]
  },
  {
   "cell_type": "code",
   "execution_count": 1,
   "metadata": {},
   "outputs": [],
   "source": [
    "import pandas as pd\n",
    "import pandas as pd\n",
    "import subprocess\n",
    "from Bio.Blast import NCBIWWW\n",
    "from Bio.Blast import NCBIXML\n",
    "from Bio import SearchIO\n",
    "import numpy\n",
    "from Bio import PDB\n",
    "import os\n",
    "import warnings\n",
    "from Bio.PDB.PDBExceptions import PDBConstructionWarning\n",
    "from Bio.PDB import PDBParser\n",
    "import time\n",
    "import argparse"
   ]
  },
  {
   "cell_type": "code",
   "execution_count": 2,
   "metadata": {},
   "outputs": [],
   "source": [
    "def calculate_protein_length_and_chains(pdb_file_path):\n",
    "    parser = PDBParser(QUIET=True)\n",
    "    structure = parser.get_structure(os.path.basename(pdb_file_path), pdb_file_path)\n",
    "    length = 0\n",
    "    num_chains = 0\n",
    "    for model in structure:\n",
    "        for chain in model:\n",
    "            num_chains += 1\n",
    "            for residue in chain:\n",
    "                if residue.id[0] == ' ':\n",
    "                    length += 1\n",
    "    return length, num_chains"
   ]
  },
  {
   "cell_type": "code",
   "execution_count": 3,
   "metadata": {},
   "outputs": [],
   "source": [
    "def pdb_file_exists(queryUnique, directory):\n",
    "    # List of possible suffixes\n",
    "    suffixes = ['', '_A', '_B', '_C', '_D', '_v4', '_Ac-241209', '_truncated-241209', '_7-241209', '_Ac-241209']\n",
    "    \n",
    "    # Check for each possible filename\n",
    "    for suffix in suffixes:\n",
    "        expected_filename = f\"{queryUnique}{suffix}.pdb\"\n",
    "        pdb_file_path = os.path.join(directory, expected_filename)\n",
    "        \n",
    "        if os.path.isfile(pdb_file_path):\n",
    "            return pdb_file_path\n",
    "    \n",
    "    # Return None if no file is found\n",
    "    return None"
   ]
  },
  {
   "cell_type": "code",
   "execution_count": 4,
   "metadata": {},
   "outputs": [],
   "source": [
    "csv_file_directory = '/Volumes/behavgenom$/John/data_exp_info/BT/FoldSeek/commercial_proteins/2_FoldSeekRaw'\n",
    "pdb_file_path = '/Volumes/behavgenom$/John/data_exp_info/BT/FoldSeek/commercial_proteins/1_commerical_proteins_processing/all_commercial_proteins/all_commercial_pdbs'\n",
    "finished_foldseek_directory = '/Volumes/behavgenom$/John/data_exp_info/BT/FoldSeek/commercial_proteins/1_commerical_proteins_processing/all_commercial_proteins/all_commercial_pdbs'"
   ]
  },
  {
   "cell_type": "code",
   "execution_count": 5,
   "metadata": {},
   "outputs": [
    {
     "name": "stdout",
     "output_type": "stream",
     "text": [
      "['4jox' 'AF3-cry9C-241206' 'AF3-cry1C-241206' 'AF3-mCry51Aa2-241210'\n",
      " '7ear' 'AF3-ecry3.1Ab-241206' 'AF3-Cry1A-241210' '4arx_D' '4arx_A'\n",
      " '4arx_C' '4arx_B' 'AF3-vip3A-241210' 'AF-C1IW73-F1-model_v4'\n",
      " 'AF3-cry1A.105-241209' 'AF3-pinII-241210' 'AF3-cry1Ab-241206'\n",
      " 'AF3-API-241210' 'AF3-vip3Aa19-241210' 'AF3-Cry2Ab2-241210'\n",
      " 'AF3-cry1Ab_truncated-241209' 'AF3-mocry1F-241209'\n",
      " 'AF-A0A1H3UHV3-F1-model_v4' '1ji6' 'AF3-mcry3A-241210'\n",
      " 'AF3-cry1Da_7-241209' '4jp0' 'AF3-CpTI-241210' 'AF3-cry14Ab-1.b-241209'\n",
      " 'AF-G3LT33-F1-model_v4' 'AF3-cry1Ab_Ac-241209' 'AF3-cry1F-241206'\n",
      " 'AF3-ipd079Ea-241210' 'AF3-vip3Aa20-241210']\n"
     ]
    }
   ],
   "source": [
    "# Read the CSV file\n",
    "FirstFoldSeekdf = pd.read_csv(f'{csv_file_directory}/FirstFoldSeekdf.csv')\n",
    "\n",
    "query_list = FirstFoldSeekdf['query'].unique()\n",
    "print(query_list)"
   ]
  },
  {
   "cell_type": "code",
   "execution_count": 6,
   "metadata": {},
   "outputs": [
    {
     "name": "stdout",
     "output_type": "stream",
     "text": [
      "FoldSeek has finished running and the resulting csv file has been saved to /Volumes/behavgenom$/John/data_exp_info/BT/FoldSeek/commercial_proteins/2_FoldSeekRaw/FirstFoldSeekdf_mod.csv\n"
     ]
    }
   ],
   "source": [
    "# Initialize columns\n",
    "FirstFoldSeekdf['QueryProteinLength'] = 0\n",
    "FirstFoldSeekdf['TargetProteinLength'] = FirstFoldSeekdf['tseq'].apply(lambda x: len(x))\n",
    "\n",
    "# Loop through each unique query\n",
    "for query in list(FirstFoldSeekdf['query'].unique()):\n",
    "    queryUnique = query.split('_')[0]\n",
    "    pdb_file_path = pdb_file_exists(queryUnique, finished_foldseek_directory)\n",
    "    \n",
    "    if pdb_file_path:\n",
    "        total_length, num_chains = calculate_protein_length_and_chains(pdb_file_path)\n",
    "        ProteinLength = total_length / num_chains if num_chains > 0 else 0\n",
    "        FirstFoldSeekdf.loc[FirstFoldSeekdf['query'] == query, 'QueryProteinLength'] = ProteinLength\n",
    "    else:\n",
    "        print(f'PDB file not found for query: {queryUnique}')\n",
    "\n",
    "# Save the modified DataFrame to a new CSV file\n",
    "FirstFoldSeekdf.to_csv(f'{csv_file_directory}/FirstFoldSeekdf_mod.csv', index=False)\n",
    "\n",
    "print(f'FoldSeek has finished running and the resulting csv file has been saved to {csv_file_directory}/FirstFoldSeekdf_mod.csv')"
   ]
  },
  {
   "cell_type": "code",
   "execution_count": 8,
   "metadata": {},
   "outputs": [
    {
     "name": "stdout",
     "output_type": "stream",
     "text": [
      "                             query  QueryProteinLength\n",
      "0                             4jox                 118\n",
      "1822              AF3-cry9C-241206                 627\n",
      "3818              AF3-cry1C-241206                 649\n",
      "5994          AF3-mCry51Aa2-241210                 293\n",
      "8596                          7ear                 584\n",
      "10624         AF3-ecry3.1Ab-241206                 611\n",
      "12865             AF3-Cry1A-241210                 117\n",
      "13627                       4arx_D                 578\n",
      "15688                       4arx_A                 578\n",
      "17891                       4arx_C                 578\n",
      "20049                       4arx_B                 578\n",
      "22268             AF3-vip3A-241210                 789\n",
      "25542        AF-C1IW73-F1-model_v4                 609\n",
      "28031         AF3-cry1A.105-241209                 605\n",
      "30607             AF3-pinII-241210                 153\n",
      "30978            AF3-cry1Ab-241206                 608\n",
      "33694               AF3-API-241210                 181\n",
      "35497          AF3-vip3Aa19-241210                 789\n",
      "38622           AF3-Cry2Ab2-241210                 309\n",
      "43474  AF3-cry1Ab_truncated-241209                 606\n",
      "45954           AF3-mocry1F-241209                 658\n",
      "48027    AF-A0A1H3UHV3-F1-model_v4                  86\n",
      "51237                         1ji6                 589\n",
      "53341            AF3-mcry3A-241210                 154\n",
      "55976          AF3-cry1Da_7-241209                 613\n",
      "57799                         4jp0                 378\n",
      "60764              AF3-CpTI-241210                  89\n",
      "61621       AF3-cry14Ab-1.b-241209                 678\n",
      "64342        AF-G3LT33-F1-model_v4                 633\n",
      "66310         AF3-cry1Ab_Ac-241209                 606\n",
      "68809             AF3-cry1F-241206                 593\n",
      "70925          AF3-ipd079Ea-241210                 478\n",
      "72986          AF3-vip3Aa20-241210                 789\n"
     ]
    }
   ],
   "source": [
    "unique_queries = FirstFoldSeekdf['query'].unique()\n",
    "\n",
    "# Create a new DataFrame with unique queries\n",
    "unique_queries_df = pd.DataFrame(unique_queries, columns=['query'])\n",
    "\n",
    "# Merge with the original DataFrame to get the 'QueryProteinLength'\n",
    "result_df = unique_queries_df.merge(FirstFoldSeekdf[['query', 'QueryProteinLength']], on='query', how='left').drop_duplicates()\n",
    "\n",
    "# Display the resulting DataFrame\n",
    "print(result_df)\n",
    "\n",
    "result_df.to_csv(f'{csv_file_directory}/FoldSeek_results.csv', index=False)"
   ]
  }
 ],
 "metadata": {
  "kernelspec": {
   "display_name": "tierpsytools",
   "language": "python",
   "name": "python3"
  },
  "language_info": {
   "codemirror_mode": {
    "name": "ipython",
    "version": 3
   },
   "file_extension": ".py",
   "mimetype": "text/x-python",
   "name": "python",
   "nbconvert_exporter": "python",
   "pygments_lexer": "ipython3",
   "version": "3.8.12"
  }
 },
 "nbformat": 4,
 "nbformat_minor": 2
}
