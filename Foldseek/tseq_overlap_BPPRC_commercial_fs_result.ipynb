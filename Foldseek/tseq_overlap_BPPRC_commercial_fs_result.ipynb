{
 "cells": [
  {
   "cell_type": "markdown",
   "metadata": {},
   "source": [
    "### Checking overlap between the result (target/tseq) from doing FoldSeekSearch on BPPRC and the commercial proteins without protoxins"
   ]
  },
  {
   "cell_type": "code",
   "execution_count": 12,
   "metadata": {},
   "outputs": [],
   "source": [
    "import pandas as pd\n",
    "import numpy as np\n",
    "import Bio as bio\n",
    "from Bio import SeqIO\n",
    "from Bio.Seq import Seq\n",
    "from Bio.SeqRecord import SeqRecord\n",
    "import matplotlib.pyplot as plt\n",
    "import seaborn as sns\n",
    "import csv\n",
    "import plotly.express as px\n",
    "import re"
   ]
  },
  {
   "cell_type": "code",
   "execution_count": 13,
   "metadata": {},
   "outputs": [],
   "source": [
    "commercial_path = '/Volumes/behavgenom$/John/data_exp_info/BT/FoldSeek/commercial_proteins/3_FoldSeekRaw_processing/FoldSeek_filtered_to_fasta.csv'\n",
    "BPPRC_path = '/Volumes/behavgenom$/John/data_exp_info/BT/FoldSeek/commercial_proteins/3_FoldSeekRaw_processing/checks/James_BPPRC/StructFilt.csv'"
   ]
  },
  {
   "cell_type": "code",
   "execution_count": 14,
   "metadata": {},
   "outputs": [
    {
     "data": {
      "text/plain": [
       "(5307, 6352)"
      ]
     },
     "execution_count": 14,
     "metadata": {},
     "output_type": "execute_result"
    }
   ],
   "source": [
    "commercial = pd.read_csv(commercial_path)\n",
    "BPPRC = pd.read_csv(BPPRC_path)\n",
    "\n",
    "len(commercial), len(BPPRC)\n"
   ]
  },
  {
   "cell_type": "markdown",
   "metadata": {},
   "source": [
    "Need to filter the BPPRC dataframe for unique tseq"
   ]
  },
  {
   "cell_type": "code",
   "execution_count": 16,
   "metadata": {},
   "outputs": [
    {
     "name": "stdout",
     "output_type": "stream",
     "text": [
      "(6310, 29)\n",
      "(5307, 33)\n"
     ]
    }
   ],
   "source": [
    "BPPRC_unique = BPPRC.drop_duplicates(subset='tseq')\n",
    "commercial_unique = commercial.drop_duplicates(subset='tseq')\n",
    "print(BPPRC_unique.shape)\n",
    "print(commercial_unique.shape)"
   ]
  },
  {
   "cell_type": "markdown",
   "metadata": {},
   "source": [
    "### Checking the number of duplicates in the 'tseq' column between the BPPRC and commercial FoldSeek results (q-&t-tm score >0.4)"
   ]
  },
  {
   "cell_type": "code",
   "execution_count": 17,
   "metadata": {},
   "outputs": [
    {
     "name": "stdout",
     "output_type": "stream",
     "text": [
      "Number of duplicates in 'tseq' columns: 1291\n"
     ]
    }
   ],
   "source": [
    "# Extract the 'tseq' columns from both DataFrames\n",
    "BPPRC_tseq = BPPRC_unique['tseq']\n",
    "commercial_tseq = commercial_unique['tseq']\n",
    "\n",
    "# Find the intersection of the two sets of sequences\n",
    "duplicates = set(BPPRC_tseq).intersection(set(commercial_tseq))\n",
    "\n",
    "# Count the number of duplicates\n",
    "num_duplicates = len(duplicates)\n",
    "\n",
    "print(f\"Number of duplicates in 'tseq' columns: {num_duplicates}\")"
   ]
  }
 ],
 "metadata": {
  "kernelspec": {
   "display_name": "tierpsytools",
   "language": "python",
   "name": "python3"
  },
  "language_info": {
   "codemirror_mode": {
    "name": "ipython",
    "version": 3
   },
   "file_extension": ".py",
   "mimetype": "text/x-python",
   "name": "python",
   "nbconvert_exporter": "python",
   "pygments_lexer": "ipython3",
   "version": "3.8.12"
  }
 },
 "nbformat": 4,
 "nbformat_minor": 2
}
